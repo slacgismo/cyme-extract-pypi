{
 "cells": [
  {
   "cell_type": "code",
   "execution_count": 6,
   "metadata": {},
   "outputs": [],
   "source": [
    "import numpy \n",
    "from cymeextract import main"
   ]
  },
  {
   "cell_type": "code",
   "execution_count": 7,
   "metadata": {},
   "outputs": [
    {
     "name": "stdout",
     "output_type": "stream",
     "text": [
      "OpenFIDO CYME-extract config settings:\n",
      "  No 'config.csv', using default settings:\n"
     ]
    },
    {
     "ename": "UnboundLocalError",
     "evalue": "local variable 'settings' referenced before assignment",
     "output_type": "error",
     "traceback": [
      "\u001b[0;31m---------------------------------------------------------------------------\u001b[0m",
      "\u001b[0;31mUnboundLocalError\u001b[0m                         Traceback (most recent call last)",
      "Cell \u001b[0;32mIn [7], line 1\u001b[0m\n\u001b[0;32m----> 1\u001b[0m \u001b[43mmain\u001b[49m\u001b[43m(\u001b[49m\u001b[43m[\u001b[49m\u001b[38;5;124;43m'\u001b[39;49m\u001b[38;5;124;43m./input_1/IEEE13.mdb\u001b[39;49m\u001b[38;5;124;43m'\u001b[39;49m\u001b[43m]\u001b[49m\u001b[43m,\u001b[49m\u001b[43m[\u001b[49m\u001b[38;5;124;43m'\u001b[39;49m\u001b[38;5;124;43m./input_1/IEEE13.glm\u001b[39;49m\u001b[38;5;124;43m'\u001b[39;49m\u001b[43m]\u001b[49m\u001b[43m)\u001b[49m\n",
      "File \u001b[0;32m~/Desktop/Projects/cyme-pypi-package/cyme-extract-pypi/src/cymeextract/main.py:86\u001b[0m, in \u001b[0;36mmain\u001b[0;34m(inputs, outputs, options)\u001b[0m\n\u001b[1;32m     <a href='file:///Users/mvicto/Desktop/Projects/cyme-pypi-package/cyme-extract-pypi/src/cymeextract/main.py?line=82'>83</a>\u001b[0m \tPOSTPROCS \u001b[39m=\u001b[39m []\n\u001b[1;32m     <a href='file:///Users/mvicto/Desktop/Projects/cyme-pypi-package/cyme-extract-pypi/src/cymeextract/main.py?line=83'>84</a>\u001b[0m \tOUTPUTTYPE \u001b[39m=\u001b[39m OUTPUTNAME\u001b[39m.\u001b[39msplit(\u001b[39m\"\u001b[39m\u001b[39m.\u001b[39m\u001b[39m\"\u001b[39m)[\u001b[39m1\u001b[39m]\n\u001b[0;32m---> <a href='file:///Users/mvicto/Desktop/Projects/cyme-pypi-package/cyme-extract-pypi/src/cymeextract/main.py?line=85'>86</a>\u001b[0m \u001b[39mif\u001b[39;00m \u001b[39m\"\u001b[39m\u001b[39mERROR_OUTPUT\u001b[39m\u001b[39m\"\u001b[39m \u001b[39min\u001b[39;00m settings\u001b[39m.\u001b[39mkeys() \u001b[39mand\u001b[39;00m os\u001b[39m.\u001b[39mpath\u001b[39m.\u001b[39mexists(settings[\u001b[39m\"\u001b[39m\u001b[39mERROR_OUTPUT\u001b[39m\u001b[39m\"\u001b[39m]):\n\u001b[1;32m     <a href='file:///Users/mvicto/Desktop/Projects/cyme-pypi-package/cyme-extract-pypi/src/cymeextract/main.py?line=86'>87</a>\u001b[0m \tos\u001b[39m.\u001b[39mremove(settings[\u001b[39m\"\u001b[39m\u001b[39mERROR_OUTPUT\u001b[39m\u001b[39m\"\u001b[39m])\n\u001b[1;32m     <a href='file:///Users/mvicto/Desktop/Projects/cyme-pypi-package/cyme-extract-pypi/src/cymeextract/main.py?line=87'>88</a>\u001b[0m \u001b[39mif\u001b[39;00m \u001b[39m\"\u001b[39m\u001b[39mWARNING_OUTPUT\u001b[39m\u001b[39m\"\u001b[39m \u001b[39min\u001b[39;00m settings\u001b[39m.\u001b[39mkeys() \u001b[39mand\u001b[39;00m os\u001b[39m.\u001b[39mpath\u001b[39m.\u001b[39mexists(settings[\u001b[39m\"\u001b[39m\u001b[39mWARNING_OUTPUT\u001b[39m\u001b[39m\"\u001b[39m]):\n",
      "\u001b[0;31mUnboundLocalError\u001b[0m: local variable 'settings' referenced before assignment"
     ]
    }
   ],
   "source": [
    "main(['./input_1/IEEE13.mdb'],['./input_1/IEEE13.glm'])"
   ]
  }
 ],
 "metadata": {
  "interpreter": {
   "hash": "d090ec673e1c9c7e8fed4c3adb5d9860cb677e675acb67fedf41ebe9b61e07ab"
  },
  "kernelspec": {
   "display_name": "Python 3.10.4 ('.venv': venv)",
   "language": "python",
   "name": "python3"
  },
  "language_info": {
   "codemirror_mode": {
    "name": "ipython",
    "version": 3
   },
   "file_extension": ".py",
   "mimetype": "text/x-python",
   "name": "python",
   "nbconvert_exporter": "python",
   "pygments_lexer": "ipython3",
   "version": "3.10.4"
  },
  "orig_nbformat": 4
 },
 "nbformat": 4,
 "nbformat_minor": 2
}
